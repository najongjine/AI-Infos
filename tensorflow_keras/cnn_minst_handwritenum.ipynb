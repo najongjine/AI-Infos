{
  "nbformat": 4,
  "nbformat_minor": 0,
  "metadata": {
    "colab": {
      "provenance": [],
      "gpuType": "T4"
    },
    "kernelspec": {
      "name": "python3",
      "display_name": "Python 3"
    },
    "language_info": {
      "name": "python"
    },
    "accelerator": "GPU"
  },
  "cells": [
    {
      "cell_type": "markdown",
      "source": [
        "🎯 1️⃣ Conv2D는 뭘 하는 레이어야?\n",
        "\n",
        "👉 이미지에서 \"특징(feature)\"를 찾아주는 레이어야!\n",
        "\n",
        "이미지는 그냥 숫자 배열이야 (픽셀 값 0~255)\n",
        "→ 근데 컴퓨터는 \"이게 숫자 5냐? 7이냐?\" 그냥 숫자만 봐서는 못 알아봐.\n",
        "\n",
        "그래서 Conv2D 가 하는 일은:\n",
        "\n",
        "✅ 필터(커널)를 이용해서 → 사진을 훑으면서 → 패턴(선, 모서리, 점, 곡선, 텍스처)을 찾아내는 것!\n",
        "\n",
        "Conv2D(32, kernel_size=(3, 3), padding='same')\n",
        "\n",
        "→ 3x3 크기의 필터 32개를 이미지에 적용해서 → 32개의 특징 맵(feature map)을 만든다!\n",
        "\n",
        "✅ Conv2D → 특징 뽑아!\n",
        "\n",
        "✅ Pooling → 크기 줄여! (중요한 것만 남겨!)\n",
        "\n",
        "✅ Conv2D → 더 깊은 특징 뽑아!\n",
        "\n",
        "✅ Pooling → 다시 크기 줄여!\n",
        "\n",
        "✅ Flatten → 이제 완전 연결층(Dense)에 넘겨줄 준비 완료!\n"
      ],
      "metadata": {
        "id": "lETIEmZY0wGC"
      }
    },
    {
      "cell_type": "code",
      "execution_count": null,
      "metadata": {
        "id": "Mv8uFJNNaA5f"
      },
      "outputs": [],
      "source": [
        "# 필요한 패키지 불러오기\n",
        "from keras.datasets import mnist\n",
        "# from keras.utils import np_utils # This import is no longer valid in newer Keras/TensorFlow versions\n",
        "\n",
        "from keras.models import Sequential\n",
        "from keras.layers import Dense, Dropout, Flatten, Conv2D, MaxPooling2D\n",
        "\n",
        "import matplotlib.pyplot as plt\n",
        "import numpy as np\n",
        "\n",
        "import tensorflow as tf\n",
        "# In newer TensorFlow/Keras, use tf.keras.utils or tf.one_hot instead of keras.utils.np_utils\n",
        "from tensorflow.keras.utils import to_categorical"
      ]
    },
    {
      "cell_type": "markdown",
      "source": [
        "| 라이브러리      | 설정된 seed 값 |\n",
        "| ---------- | ---------- |\n",
        "| numpy      | `0`        |\n",
        "| tensorflow | `3`        |\n",
        "\n",
        "🎲 2️⃣ 왜 필요한가?\n",
        "랜덤(random) 은 프로그램 실행할 때마다 결과가 달라질 수 있어.\n",
        "근데 실험(예: 딥러닝 모델 학습) 을 할 때는:\n",
        "\n",
        "✅ \"똑같은 결과가 나오게 하고 싶을 때\" → reproducibility (재현성)\n",
        "\n",
        "👉 그래서 seed 값을 고정하면,\n",
        "👉 \"랜덤\"이어도 매번 같은 결과가 나오게 만들 수 있어!\n",
        "\n",
        "🔍 3️⃣ 어디서 랜덤이 쓰일까? (CNN 예제에서)\n",
        "가중치 초기화: Conv2D, Dense Layer는 처음에 가중치(Weight)를 랜덤으로 만듦\n",
        "\n",
        "Dropout Layer도 랜덤으로 뉴런을 끊음\n",
        "\n",
        "데이터 셔플링: 학습 데이터를 섞는 것도 랜덤\n",
        "\n",
        "👉 그러니까 \"랜덤 요소\"가 CNN 학습에 여러 군데 들어가 있어!\n",
        "\n"
      ],
      "metadata": {
        "id": "Z4vViKc7miN2"
      }
    },
    {
      "cell_type": "code",
      "source": [
        "# seed 값 설정\n",
        "seed = 0\n",
        "np.random.seed(seed)\n",
        "tf.random.set_seed(3)"
      ],
      "metadata": {
        "id": "_QbVabfwgp-x"
      },
      "execution_count": null,
      "outputs": []
    },
    {
      "cell_type": "markdown",
      "source": [
        "| 변수명      | 형태       | 크기(shape)       | 예시 값                     |\n",
        "| -------- | -------- | --------------- | ------------------------ |\n",
        "| x\\_train | numpy 배열 | (60000, 28, 28) | 손글씨 이미지들 (픽셀 값: 0\\~255)  |\n",
        "| y\\_train | numpy 배열 | (60000,)        | 정답 숫자 (ex: 5, 3, 7, ...) |\n",
        "| x\\_test  | numpy 배열 | (10000, 28, 28) | 테스트용 이미지들                |\n",
        "| y\\_test  | numpy 배열 | (10000,)        | 테스트용 정답 숫자               |\n",
        "\n",
        "왜 있어야 하는가?\n",
        "\n",
        "👉 CNN 모델은 이미지를 보고 결과를 예측하는 것이 목적\n",
        "👉 그러려면 학습할 데이터(이미지 + 정답)가 필요\n",
        "👉 mnist.load_data() 가 그걸 자동으로 준비해 줌\n",
        "\n"
      ],
      "metadata": {
        "id": "Tu0jnYLqCscj"
      }
    },
    {
      "cell_type": "markdown",
      "source": [
        "print(x_train.shape)  # (60000, 28, 28)\n",
        "\n",
        "print(y_train.shape)  # (60000,)\n",
        "\n",
        "print(x_test.shape)   # (10000, 28, 28)\n",
        "\n",
        "print(y_test.shape)   # (10000,)\n",
        "\n",
        "| 위치    | 의미         | 설명                      |\n",
        "| ----- | ---------- | ----------------------- |\n",
        "| 60000 | **이미지 개수** | **훈련용 이미지가 60000장 있다!** |\n",
        "| 28    | **높이(행)**  | 각 이미지가 **28픽셀 높이**다     |\n",
        "| 28    | **너비(열)**  | 각 이미지가 **28픽셀 너비**다     |\n",
        "\n",
        "\n",
        "| 위치    | 의미                                        |\n",
        "| ----- | ----------------------------------------- |\n",
        "| 60000 | **정답(라벨)이 60000개 있음** (x\\_train 과 1:1 대응) |\n"
      ],
      "metadata": {
        "id": "9yXw0nhMgO4y"
      }
    },
    {
      "cell_type": "code",
      "source": [
        "# mnist 데이터 로딩\n",
        "# mnist.load_data() 이 함수가 무조건 4개의 객체를 이런 형태로 리턴함\n",
        "(x_train, y_train), (x_test, y_test) = mnist.load_data()"
      ],
      "metadata": {
        "id": "p3xAlhgRguE4"
      },
      "execution_count": null,
      "outputs": []
    },
    {
      "cell_type": "code",
      "source": [
        "import matplotlib.pyplot as plt\n",
        "\n",
        "#print((x_train[0]))\n",
        "#print((y_train[0]))\n",
        "\n",
        "# 첫 번째 학습 이미지 보기\n",
        "plt.imshow(x_train[0], cmap='gray')\n",
        "plt.title(f\"Label: {y_train[0]}\")\n",
        "plt.show()"
      ],
      "metadata": {
        "id": "zVJii077DMuB",
        "colab": {
          "base_uri": "https://localhost:8080/",
          "height": 452
        },
        "outputId": "d06a9500-113d-4560-bd02-d069e8568b38"
      },
      "execution_count": null,
      "outputs": [
        {
          "output_type": "display_data",
          "data": {
            "text/plain": [
              "<Figure size 640x480 with 1 Axes>"
            ],
            "image/png": "[encoded data removed]"
          },
          "metadata": {}
        }
      ]
    },
    {
      "cell_type": "markdown",
      "source": [
        "딥러닝 학습은 \"반복하면서 점점 더 잘해지는 과정\"이다!\n",
        "\n",
        "컴퓨터(CNN 모델)도 비슷해!\n",
        "👉 처음 가중치는 랜덤으로 초기화돼 (아무것도 모름!)\n",
        "\n",
        "👉 첫 번째 epoch 때는 → 조금 엉성하게 학습함\n",
        "\n",
        "👉 반복하면서 → 조금씩 더 정확하게 \"패턴\"을 학습함\n",
        "\n",
        "👉 epoch 수가 늘어날수록 → 오차(Loss)가 줄어들고 정확도(Accuracy)가 올라감\n",
        "\n",
        "1️⃣ epochs를 너무 많이 돌리면 왜 오히려 나빠질 수도 있는지 (Overfitting)\n",
        "\n",
        "2️⃣ epochs를 몇 번으로 설정하는 기준은 뭔지\n",
        "\n",
        "3️⃣ 학습 곡선(Loss, Accuracy 그래프) 직접 그려보는 코드 예시"
      ],
      "metadata": {
        "id": "-noqBdifjukP"
      }
    },
    {
      "cell_type": "code",
      "source": [
        "# hyper-parameter 설정\n",
        "batch_size = 100 # 한 번에 100장씩 학습하겠다!\n",
        "epochs = 20 # 전체 데이터를 20번 반복해서 학습하겠다!"
      ],
      "metadata": {
        "id": "uwTVOm_xhYzR"
      },
      "execution_count": null,
      "outputs": []
    },
    {
      "cell_type": "markdown",
      "source": [
        "to_categorical() 는 정수형 라벨 → One-hot 벡터로 바꿔주는 것(정수 아니면 불가)\n",
        "\n",
        "👉 \"정수 하나 → 10개짜리 벡터로 바꿔주는 것\"\n",
        "\n",
        "예시:\n",
        "\n",
        "원래 y_train 값\tto_categorical 결과 (one-hot encoding)\n",
        "\n",
        "0\t[1 0 0 0 0 0 0 0 0 0]\n",
        "\n",
        "1\t[0 1 0 0 0 0 0 0 0 0]\n",
        "\n",
        "5\t[0 0 0 0 0 1 0 0 0 0]\n",
        "\n",
        "9\t[0 0 0 0 0 0 0 0 0 1]\n",
        "\n",
        "Dense(10, activation='softmax')\n",
        "\n",
        "👉 softmax는 → 10개의 확률(0~1)을 출력해!\n",
        "\n",
        "\n",
        "[0.01  0.02  0.00  0.00  0.05  0.90  0.00  0.00  0.02  0.00]\n",
        "\n",
        "→ \"가장 확률 높은 게 5니까 → 숫자 5로 예측\"\n",
        "\n",
        "\n",
        "✅ 모델 출력은 → 10개짜리 확률 벡터\n",
        "✅ 근데 y_train 은 → 그냥 숫자 하나 (예: 5)\n",
        "\n",
        "👉 이 둘이 비교가 안 맞아!\n",
        "👉 그래서 y_train도 10개짜리 벡터로 바꿔줘야 비교가 가능!"
      ],
      "metadata": {
        "id": "6PF2biYYpugW"
      }
    },
    {
      "cell_type": "markdown",
      "source": [
        "그럼 to_categorical 의 전제조건이 뭐냐?\n",
        "\n",
        "👉 입력값은 반드시 \"0 이상 정수(int)\"여야 해!\n",
        "\n",
        "| 예                    | 가능?            |\n",
        "| -------------------- | -------------- |\n",
        "| `0, 1, 2, 3, 4, ...` | 가능 ✅           |\n",
        "| `5, 7, 9, 0, 2`      | 가능 ✅           |\n",
        "| `-1, -3`             | 불가능 ❌ (음수 안 됨) |\n",
        "| `3.5, 2.7` (소수)      | 불가능 ❌          |\n",
        "| `'cat', 'dog'` (문자)  | 불가능 ❌          |\n"
      ],
      "metadata": {
        "id": "Ca5ySC8zuyKr"
      }
    },
    {
      "cell_type": "markdown",
      "source": [
        "\n"
      ],
      "metadata": {
        "id": "H2CVDr6msKnB"
      }
    },
    {
      "cell_type": "code",
      "source": [
        "# 정규화\n",
        "x_train = x_train.astype('float32') / 255\n",
        "x_test = x_test.astype('float32') / 255\n",
        "y_train = to_categorical(y_train, 10)\n",
        "y_test = to_categorical(y_test, 10)"
      ],
      "metadata": {
        "id": "B-gFdJtCg0wQ",
        "colab": {
          "base_uri": "https://localhost:8080/"
        },
        "collapsed": true,
        "outputId": "7e4e4071-8cef-4fe0-8d5f-5b3fdb594e5a"
      },
      "execution_count": null,
      "outputs": [
        {
          "output_type": "stream",
          "name": "stdout",
          "text": [
            "(60000, 10)\n",
            "(10000, 10)\n"
          ]
        }
      ]
    },
    {
      "cell_type": "markdown",
      "source": [
        "(60000, 10)\n",
        "\n",
        "(10000, 10)\n",
        "\n",
        "| 차원    | 의미                                         |\n",
        "| ----- | ------------------------------------------ |\n",
        "| 60000 | 데이터 개수 → **이미지 개수(학습용 60000장)**            |\n",
        "| 10    | 클래스 개수(0\\~9) → **One-hot 인코딩으로 변환된 벡터 길이** |"
      ],
      "metadata": {
        "id": "MeflmCGIsu_2"
      }
    },
    {
      "cell_type": "code",
      "source": [
        "print(y_train.shape)\n",
        "print(y_test.shape)"
      ],
      "metadata": {
        "colab": {
          "base_uri": "https://localhost:8080/"
        },
        "id": "2893FALEsiEn",
        "outputId": "c343b5c1-2948-40fe-ae59-f0e601cc6ff4"
      },
      "execution_count": null,
      "outputs": [
        {
          "output_type": "stream",
          "name": "stdout",
          "text": [
            "[0. 0. 0. 0. 0. 1. 0. 0. 0. 0.]\n",
            "[0. 0. 0. 0. 0. 0. 0. 1. 0. 0.]\n"
          ]
        }
      ]
    },
    {
      "cell_type": "markdown",
      "source": [
        "입력 이미지 (28x28x1) → Conv2D → Pooling → Conv2D → Pooling → Flatten → (나중에 Dense로 분류)\n",
        "\n",
        "지금은 이미지 특징(Feature) 를 점점 뽑아내고 있는 단계야.\n",
        "\n",
        "1️⃣ model = Sequential()\n",
        "\n",
        "👉 \"나는 레이어들을 순서대로 쌓는 모델을 만들 거야!\" 선언하는 것.\n",
        "\n",
        "→ 그냥 CNN 기본 모델은 거의 다 Sequential로 시작해."
      ],
      "metadata": {
        "id": "JpEGpciAvRvQ"
      }
    },
    {
      "cell_type": "markdown",
      "source": [
        "2️⃣ 첫 번째 Conv2D\n",
        "\n",
        "model.add(Conv2D(32, kernel_size=(3, 3), strides=(1, 1), padding='same',\n",
        "                 activation='relu', input_shape=(28, 28, 1)))\n",
        "\n",
        "👉 \"28x28 흑백 이미지(1 채널)를 받아서,\n",
        "\n",
        "👉 3x3 크기의 필터(커널)를 사용해서 특징을 뽑겠다\n",
        "\n",
        "👉 필터 32개 사용 → 결과는 32개의 특징 맵 생성\n",
        "\n",
        "👉 'same' → 출력 크기 유지 (28x28)\n",
        "\n",
        "👉 activation='relu' → 비선형성 추가 (복잡한 패턴 학습)\"\n",
        "\n",
        "쉽게 비유 🚀\n",
        "\n",
        "👉 \"사진(이미지)를 확대경으로 훑으면서 → 특징(선, 모서리, 점 등)을 찾아낸다!\"\n",
        "\n",
        "필터 32개 → 32가지 특징을 서로 다르게 뽑음."
      ],
      "metadata": {
        "id": "-zkYh3lxwMqL"
      }
    },
    {
      "cell_type": "markdown",
      "source": [
        "3️⃣ 첫 번째 MaxPooling\n",
        "\n",
        "model.add(MaxPooling2D(pool_size=(2, 2), strides=(2, 2)))\n",
        "\n",
        "👉 \"이미지 크기를 절반으로 줄이겠다 → 28x28 → 14x14로 줄어듦\"\n",
        "\n",
        "👉 이유: 계산량 줄이고 중요한 정보만 남기기\n",
        "\n",
        "👉 pool_size = (2,2) → 2x2 영역에서 \"가장 큰 값만 남김\" (MaxPooling)\n",
        "\n",
        "쉽게 비유 🚀\n",
        "\n",
        "👉 \"이미지 요약하기!\"\n",
        "\n",
        "👉 \"덜 중요한 디테일은 버리고, 핵심 정보만 압축!\""
      ],
      "metadata": {
        "id": "BxWkXra5yMlA"
      }
    },
    {
      "cell_type": "markdown",
      "source": [
        "4️⃣ 두 번째 Conv2D\n",
        "\n",
        "model.add(Conv2D(64, (3, 3), activation='relu', padding='same'))\n",
        "\n",
        "👉 다시 한 번 3x3 필터로 특징 뽑기\n",
        "\n",
        "👉 이번엔 64개 필터 사용 → 더 복잡한 특징 학습\n",
        "\n",
        "👉 입력 크기 → (14x14) 였다가 여전히 (14x14), 채널만 64개로 증가"
      ],
      "metadata": {
        "id": "Ki1Hw30pykr2"
      }
    },
    {
      "cell_type": "markdown",
      "source": [
        "5️⃣ 두 번째 MaxPooling\n",
        "\n",
        "model.add(MaxPooling2D(pool_size=(2, 2)))\n",
        "\n",
        "👉 다시 크기 줄이기 → (14x14) → (7x7) 로 축소"
      ],
      "metadata": {
        "id": "3T-aoSK3y8us"
      }
    },
    {
      "cell_type": "markdown",
      "source": [
        "6️⃣ Flatten\n",
        "\n",
        "model.add(Flatten())\n",
        "\n",
        "✅ 가장 중요한 부분!\n",
        "\n",
        "👉 CNN은 지금까지 이미지를 특징 맵으로 변환했어 → (7,7,64) 형태임\n",
        "\n",
        "👉 근데 Dense(완전연결층)에 넣으려면 → 1차원 벡터로 바꿔야 해!\n",
        "\n",
        "👉 Flatten → 3차원 배열 → 1차원 벡터로 \"펴주는 것\""
      ],
      "metadata": {
        "id": "dM-RJgkyzB9D"
      }
    },
    {
      "cell_type": "markdown",
      "source": [
        "| 레이어                             | 출력 shape 변화              | 설명                  |\n",
        "| ------------------------------- | ------------------------ | ------------------- |\n",
        "| 입력                              | (28, 28, 1)              | 흑백 이미지 28x28        |\n",
        "| Conv2D(32, 3x3, padding='same') | (28, 28, 32)             | 필터 32개 → 채널 32개로 증가 |\n",
        "| MaxPooling2D(2x2)               | (14, 14, 32)             | 크기 절반으로 축소          |\n",
        "| Conv2D(64, 3x3, padding='same') | (14, 14, 64)             | 필터 64개 → 채널 64개로 증가 |\n",
        "| MaxPooling2D(2x2)               | (7, 7, 64)               | 크기 절반으로 축소          |\n",
        "| Flatten()                       | (7 \\* 7 \\* 64) → (3136,) | 1차원 벡터로 변환          |\n"
      ],
      "metadata": {
        "id": "RCGCrHUD1SBv"
      }
    },
    {
      "cell_type": "markdown",
      "source": [
        "model.add(Dense(128, activation='relu'))\n",
        "\n",
        "✅ Dense layer (완전 연결층)\n",
        "\n",
        "→ Flatten() 으로 펴준 벡터(1차원 3136개)를 받아서 → 128개의 뉴런으로 연결\n",
        "\n",
        "역할:\n",
        "\n",
        "👉 CNN이 뽑아준 \"이미지 특징\"을 조합해서 더 고차원적인 패턴을 학습\n",
        "\n",
        "👉 \"숫자 5는 이런 특징이 조합되면 나오네?\" 를 배우는 단계\n",
        "\n",
        "activation='relu'`:\n",
        "\n",
        "👉 각 뉴런이 비선형 변환해서 복잡한 패턴 학습 가능하게 함.\n",
        "\n",
        "요약:\n",
        "3136 → 128개의 뉴런으로 변환 → 패턴 더 잘 이해하기"
      ],
      "metadata": {
        "id": "RZ3Yvp9U7fQ-"
      }
    },
    {
      "cell_type": "markdown",
      "source": [
        "model.add(Dropout(0.5))\n",
        "\n",
        "✅ Dropout → 과적합 방지용 레이어\n",
        "\n",
        "Dropout(0.5):\n",
        "\n",
        "👉 학습할 때 → 무작위로 뉴런의 50%를 꺼버린다!\n",
        "\n",
        "왜?\n",
        "\n",
        "👉 Dense 층은 너무 많은 파라미터가 있어서 잘 외워버림 (overfitting)!\n",
        "\n",
        "👉 Dropout을 하면 → \"너무 외우지 말고 다양한 패턴을 배우게\" 강제로 유도.\n",
        "\n",
        "요약:\n",
        "Dense(128)를 학습할 때 → 절반 뉴런 꺼서 과적합 방지!"
      ],
      "metadata": {
        "id": "tggY_G8S7qcl"
      }
    },
    {
      "cell_type": "markdown",
      "source": [
        "model.add(Dense(10, activation='softmax'))\n",
        "\n",
        "✅ 최종 출력층!\n",
        "\n",
        "✅ Dense(10) → 10개 뉴런 → 숫자 0~9 중 어떤 숫자인지 확률로 예측\n",
        "\n",
        "softmax activation:\n",
        "\n",
        "👉 출력값을 0~1 사이 확률로 변환하고, 전체 합이 1이 되게 함\n",
        "\n",
        "👉 즉, \"이 숫자가 0일 확률\", \"1일 확률\", ..., \"9일 확률\" 출력!\n",
        "\n",
        "[0.01  0.02  0.00  0.00  0.05  0.90  0.00  0.00  0.02  0.00]"
      ],
      "metadata": {
        "id": "pcCWx-9p7wuM"
      }
    },
    {
      "cell_type": "code",
      "source": [
        "# CNN의 설정\n",
        "model = Sequential()\n",
        "\n",
        "# conv2 : 특징추출 학\n",
        "# 첫 conv2에는 입력 데이터 모양을 알려줘야해서 input_shape=(28, 28, 1) 필요.\n",
        "model.add(Conv2D(32, kernel_size=(3, 3), strides=(1, 1), padding='same',\n",
        "                 activation='relu', input_shape=(28, 28, 1)))\n",
        "\n",
        "model.add(MaxPooling2D(pool_size=(2, 2), strides=(2, 2)))\n",
        "\n",
        "#두번째 conv2d 는 keras가 첫번째 conv 에 셋팅된값 자동으로 갔다씀. strides=(1, 1) 는 디폴트값이 내부적으로 적용됨\n",
        "model.add(Conv2D(64, (3, 3), activation='relu', padding='same'))\n",
        "\n",
        "model.add(MaxPooling2D(pool_size=(2, 2)))\n",
        "# model.add(Dropout(0.25))\n",
        "\n",
        "model.add(Flatten())\n",
        "\n",
        "# \"이 특징 조합이 숫자 5인지, 숫자 3인지\"를 결정하는 건 → Dense가 학습하는 부분이야!\n",
        "model.add(Dense(128, activation='relu'))\n",
        "model.add(Dropout(0.5))\n",
        "model.add(Dense(10, activation='softmax'))"
      ],
      "metadata": {
        "id": "IMnIoPlZhe-g",
        "colab": {
          "base_uri": "https://localhost:8080/"
        },
        "outputId": "826e3c11-738e-4dfc-d420-b9a70388e069"
      },
      "execution_count": null,
      "outputs": [
        {
          "output_type": "stream",
          "name": "stderr",
          "text": [
            "/usr/local/lib/python3.11/dist-packages/keras/src/layers/convolutional/base_conv.py:107: UserWarning: Do not pass an `input_shape`/`input_dim` argument to a layer. When using Sequential models, prefer using an `Input(shape)` object as the first layer in the model instead.\n",
            "  super().__init__(activity_regularizer=activity_regularizer, **kwargs)\n"
          ]
        }
      ]
    },
    {
      "cell_type": "code",
      "source": [],
      "metadata": {
        "id": "16J202Cnhrew"
      },
      "execution_count": null,
      "outputs": []
    },
    {
      "cell_type": "code",
      "source": [
        "model.summary()"
      ],
      "metadata": {
        "colab": {
          "base_uri": "https://localhost:8080/",
          "height": 408
        },
        "id": "KnR5kMawhvO3",
        "outputId": "a96ea4dd-13fd-4ccc-8c05-5c9d06e8af25"
      },
      "execution_count": null,
      "outputs": [
        {
          "output_type": "display_data",
          "data": {
            "text/plain": [
              "\u001b[1mModel: \"sequential\"\u001b[0m\n"
            ],
            "text/html": [
              "<pre style=\"white-space:pre;overflow-x:auto;line-height:normal;font-family:Menlo,'DejaVu Sans Mono',consolas,'Courier New',monospace\"><span style=\"font-weight: bold\">Model: \"sequential\"</span>\n",
              "</pre>\n"
            ]
          },
          "metadata": {}
        },
        {
          "output_type": "display_data",
          "data": {
            "text/plain": [
              "┏━━━━━━━━━━━━━━━━━━━━━━━━━━━━━━━━━┳━━━━━━━━━━━━━━━━━━━━━━━━┳━━━━━━━━━━━━━━━┓\n",
              "┃\u001b[1m \u001b[0m\u001b[1mLayer (type)                   \u001b[0m\u001b[1m \u001b[0m┃\u001b[1m \u001b[0m\u001b[1mOutput Shape          \u001b[0m\u001b[1m \u001b[0m┃\u001b[1m \u001b[0m\u001b[1m      Param #\u001b[0m\u001b[1m \u001b[0m┃\n",
              "┡━━━━━━━━━━━━━━━━━━━━━━━━━━━━━━━━━╇━━━━━━━━━━━━━━━━━━━━━━━━╇━━━━━━━━━━━━━━━┩\n",
              "│ conv2d (\u001b[38;5;33mConv2D\u001b[0m)                 │ (\u001b[38;5;45mNone\u001b[0m, \u001b[38;5;34m28\u001b[0m, \u001b[38;5;34m28\u001b[0m, \u001b[38;5;34m32\u001b[0m)     │           \u001b[38;5;34m320\u001b[0m │\n",
              "├─────────────────────────────────┼────────────────────────┼───────────────┤\n",
              "│ max_pooling2d (\u001b[38;5;33mMaxPooling2D\u001b[0m)    │ (\u001b[38;5;45mNone\u001b[0m, \u001b[38;5;34m14\u001b[0m, \u001b[38;5;34m14\u001b[0m, \u001b[38;5;34m32\u001b[0m)     │             \u001b[38;5;34m0\u001b[0m │\n",
              "├─────────────────────────────────┼────────────────────────┼───────────────┤\n",
              "│ conv2d_1 (\u001b[38;5;33mConv2D\u001b[0m)               │ (\u001b[38;5;45mNone\u001b[0m, \u001b[38;5;34m14\u001b[0m, \u001b[38;5;34m14\u001b[0m, \u001b[38;5;34m64\u001b[0m)     │        \u001b[38;5;34m18,496\u001b[0m │\n",
              "├─────────────────────────────────┼────────────────────────┼───────────────┤\n",
              "│ max_pooling2d_1 (\u001b[38;5;33mMaxPooling2D\u001b[0m)  │ (\u001b[38;5;45mNone\u001b[0m, \u001b[38;5;34m7\u001b[0m, \u001b[38;5;34m7\u001b[0m, \u001b[38;5;34m64\u001b[0m)       │             \u001b[38;5;34m0\u001b[0m │\n",
              "├─────────────────────────────────┼────────────────────────┼───────────────┤\n",
              "│ flatten (\u001b[38;5;33mFlatten\u001b[0m)               │ (\u001b[38;5;45mNone\u001b[0m, \u001b[38;5;34m3136\u001b[0m)           │             \u001b[38;5;34m0\u001b[0m │\n",
              "├─────────────────────────────────┼────────────────────────┼───────────────┤\n",
              "│ dense (\u001b[38;5;33mDense\u001b[0m)                   │ (\u001b[38;5;45mNone\u001b[0m, \u001b[38;5;34m128\u001b[0m)            │       \u001b[38;5;34m401,536\u001b[0m │\n",
              "├─────────────────────────────────┼────────────────────────┼───────────────┤\n",
              "│ dropout (\u001b[38;5;33mDropout\u001b[0m)               │ (\u001b[38;5;45mNone\u001b[0m, \u001b[38;5;34m128\u001b[0m)            │             \u001b[38;5;34m0\u001b[0m │\n",
              "├─────────────────────────────────┼────────────────────────┼───────────────┤\n",
              "│ dense_1 (\u001b[38;5;33mDense\u001b[0m)                 │ (\u001b[38;5;45mNone\u001b[0m, \u001b[38;5;34m10\u001b[0m)             │         \u001b[38;5;34m1,290\u001b[0m │\n",
              "└─────────────────────────────────┴────────────────────────┴───────────────┘\n"
            ],
            "text/html": [
              "<pre style=\"white-space:pre;overflow-x:auto;line-height:normal;font-family:Menlo,'DejaVu Sans Mono',consolas,'Courier New',monospace\">┏━━━━━━━━━━━━━━━━━━━━━━━━━━━━━━━━━┳━━━━━━━━━━━━━━━━━━━━━━━━┳━━━━━━━━━━━━━━━┓\n",
              "┃<span style=\"font-weight: bold\"> Layer (type)                    </span>┃<span style=\"font-weight: bold\"> Output Shape           </span>┃<span style=\"font-weight: bold\">       Param # </span>┃\n",
              "┡━━━━━━━━━━━━━━━━━━━━━━━━━━━━━━━━━╇━━━━━━━━━━━━━━━━━━━━━━━━╇━━━━━━━━━━━━━━━┩\n",
              "│ conv2d (<span style=\"color: #0087ff; text-decoration-color: #0087ff\">Conv2D</span>)                 │ (<span style=\"color: #00d7ff; text-decoration-color: #00d7ff\">None</span>, <span style=\"color: #00af00; text-decoration-color: #00af00\">28</span>, <span style=\"color: #00af00; text-decoration-color: #00af00\">28</span>, <span style=\"color: #00af00; text-decoration-color: #00af00\">32</span>)     │           <span style=\"color: #00af00; text-decoration-color: #00af00\">320</span> │\n",
              "├─────────────────────────────────┼────────────────────────┼───────────────┤\n",
              "│ max_pooling2d (<span style=\"color: #0087ff; text-decoration-color: #0087ff\">MaxPooling2D</span>)    │ (<span style=\"color: #00d7ff; text-decoration-color: #00d7ff\">None</span>, <span style=\"color: #00af00; text-decoration-color: #00af00\">14</span>, <span style=\"color: #00af00; text-decoration-color: #00af00\">14</span>, <span style=\"color: #00af00; text-decoration-color: #00af00\">32</span>)     │             <span style=\"color: #00af00; text-decoration-color: #00af00\">0</span> │\n",
              "├─────────────────────────────────┼────────────────────────┼───────────────┤\n",
              "│ conv2d_1 (<span style=\"color: #0087ff; text-decoration-color: #0087ff\">Conv2D</span>)               │ (<span style=\"color: #00d7ff; text-decoration-color: #00d7ff\">None</span>, <span style=\"color: #00af00; text-decoration-color: #00af00\">14</span>, <span style=\"color: #00af00; text-decoration-color: #00af00\">14</span>, <span style=\"color: #00af00; text-decoration-color: #00af00\">64</span>)     │        <span style=\"color: #00af00; text-decoration-color: #00af00\">18,496</span> │\n",
              "├─────────────────────────────────┼────────────────────────┼───────────────┤\n",
              "│ max_pooling2d_1 (<span style=\"color: #0087ff; text-decoration-color: #0087ff\">MaxPooling2D</span>)  │ (<span style=\"color: #00d7ff; text-decoration-color: #00d7ff\">None</span>, <span style=\"color: #00af00; text-decoration-color: #00af00\">7</span>, <span style=\"color: #00af00; text-decoration-color: #00af00\">7</span>, <span style=\"color: #00af00; text-decoration-color: #00af00\">64</span>)       │             <span style=\"color: #00af00; text-decoration-color: #00af00\">0</span> │\n",
              "├─────────────────────────────────┼────────────────────────┼───────────────┤\n",
              "│ flatten (<span style=\"color: #0087ff; text-decoration-color: #0087ff\">Flatten</span>)               │ (<span style=\"color: #00d7ff; text-decoration-color: #00d7ff\">None</span>, <span style=\"color: #00af00; text-decoration-color: #00af00\">3136</span>)           │             <span style=\"color: #00af00; text-decoration-color: #00af00\">0</span> │\n",
              "├─────────────────────────────────┼────────────────────────┼───────────────┤\n",
              "│ dense (<span style=\"color: #0087ff; text-decoration-color: #0087ff\">Dense</span>)                   │ (<span style=\"color: #00d7ff; text-decoration-color: #00d7ff\">None</span>, <span style=\"color: #00af00; text-decoration-color: #00af00\">128</span>)            │       <span style=\"color: #00af00; text-decoration-color: #00af00\">401,536</span> │\n",
              "├─────────────────────────────────┼────────────────────────┼───────────────┤\n",
              "│ dropout (<span style=\"color: #0087ff; text-decoration-color: #0087ff\">Dropout</span>)               │ (<span style=\"color: #00d7ff; text-decoration-color: #00d7ff\">None</span>, <span style=\"color: #00af00; text-decoration-color: #00af00\">128</span>)            │             <span style=\"color: #00af00; text-decoration-color: #00af00\">0</span> │\n",
              "├─────────────────────────────────┼────────────────────────┼───────────────┤\n",
              "│ dense_1 (<span style=\"color: #0087ff; text-decoration-color: #0087ff\">Dense</span>)                 │ (<span style=\"color: #00d7ff; text-decoration-color: #00d7ff\">None</span>, <span style=\"color: #00af00; text-decoration-color: #00af00\">10</span>)             │         <span style=\"color: #00af00; text-decoration-color: #00af00\">1,290</span> │\n",
              "└─────────────────────────────────┴────────────────────────┴───────────────┘\n",
              "</pre>\n"
            ]
          },
          "metadata": {}
        },
        {
          "output_type": "display_data",
          "data": {
            "text/plain": [
              "\u001b[1m Total params: \u001b[0m\u001b[38;5;34m421,642\u001b[0m (1.61 MB)\n"
            ],
            "text/html": [
              "<pre style=\"white-space:pre;overflow-x:auto;line-height:normal;font-family:Menlo,'DejaVu Sans Mono',consolas,'Courier New',monospace\"><span style=\"font-weight: bold\"> Total params: </span><span style=\"color: #00af00; text-decoration-color: #00af00\">421,642</span> (1.61 MB)\n",
              "</pre>\n"
            ]
          },
          "metadata": {}
        },
        {
          "output_type": "display_data",
          "data": {
            "text/plain": [
              "\u001b[1m Trainable params: \u001b[0m\u001b[38;5;34m421,642\u001b[0m (1.61 MB)\n"
            ],
            "text/html": [
              "<pre style=\"white-space:pre;overflow-x:auto;line-height:normal;font-family:Menlo,'DejaVu Sans Mono',consolas,'Courier New',monospace\"><span style=\"font-weight: bold\"> Trainable params: </span><span style=\"color: #00af00; text-decoration-color: #00af00\">421,642</span> (1.61 MB)\n",
              "</pre>\n"
            ]
          },
          "metadata": {}
        },
        {
          "output_type": "display_data",
          "data": {
            "text/plain": [
              "\u001b[1m Non-trainable params: \u001b[0m\u001b[38;5;34m0\u001b[0m (0.00 B)\n"
            ],
            "text/html": [
              "<pre style=\"white-space:pre;overflow-x:auto;line-height:normal;font-family:Menlo,'DejaVu Sans Mono',consolas,'Courier New',monospace\"><span style=\"font-weight: bold\"> Non-trainable params: </span><span style=\"color: #00af00; text-decoration-color: #00af00\">0</span> (0.00 B)\n",
              "</pre>\n"
            ]
          },
          "metadata": {}
        }
      ]
    },
    {
      "cell_type": "code",
      "source": [
        "# 모델 컴파일\n",
        "model.compile(loss='categorical_crossentropy', optimizer='adam', metrics=['accuracy'])"
      ],
      "metadata": {
        "id": "jP4_iNckh1wo"
      },
      "execution_count": null,
      "outputs": []
    },
    {
      "cell_type": "code",
      "source": [
        "# 모델 학습시키기\n",
        "history = model.fit(x_train, y_train, validation_data=(x_test, y_test),\n",
        "                    batch_size=batch_size, epochs=epochs, verbose=1)\n"
      ],
      "metadata": {
        "colab": {
          "base_uri": "https://localhost:8080/"
        },
        "id": "X5GeXbsVh31o",
        "outputId": "cca486e9-1ae4-4598-8f95-4f1a1f0f3ec3"
      },
      "execution_count": null,
      "outputs": [
        {
          "output_type": "stream",
          "name": "stdout",
          "text": [
            "Epoch 1/20\n",
            "\u001b[1m600/600\u001b[0m \u001b[32m━━━━━━━━━━━━━━━━━━━━\u001b[0m\u001b[37m\u001b[0m \u001b[1m8s\u001b[0m 5ms/step - accuracy: 0.7268 - loss: 2.3285 - val_accuracy: 0.9761 - val_loss: 0.0853\n",
            "Epoch 2/20\n",
            "\u001b[1m600/600\u001b[0m \u001b[32m━━━━━━━━━━━━━━━━━━━━\u001b[0m\u001b[37m\u001b[0m \u001b[1m2s\u001b[0m 4ms/step - accuracy: 0.9498 - loss: 0.1693 - val_accuracy: 0.9821 - val_loss: 0.0614\n",
            "Epoch 3/20\n",
            "\u001b[1m600/600\u001b[0m \u001b[32m━━━━━━━━━━━━━━━━━━━━\u001b[0m\u001b[37m\u001b[0m \u001b[1m2s\u001b[0m 4ms/step - accuracy: 0.9656 - loss: 0.1203 - val_accuracy: 0.9878 - val_loss: 0.0445\n",
            "Epoch 4/20\n",
            "\u001b[1m600/600\u001b[0m \u001b[32m━━━━━━━━━━━━━━━━━━━━\u001b[0m\u001b[37m\u001b[0m \u001b[1m3s\u001b[0m 5ms/step - accuracy: 0.9730 - loss: 0.0905 - val_accuracy: 0.9877 - val_loss: 0.0462\n",
            "Epoch 5/20\n",
            "\u001b[1m600/600\u001b[0m \u001b[32m━━━━━━━━━━━━━━━━━━━━\u001b[0m\u001b[37m\u001b[0m \u001b[1m5s\u001b[0m 4ms/step - accuracy: 0.9755 - loss: 0.0832 - val_accuracy: 0.9866 - val_loss: 0.0469\n",
            "Epoch 6/20\n",
            "\u001b[1m600/600\u001b[0m \u001b[32m━━━━━━━━━━━━━━━━━━━━\u001b[0m\u001b[37m\u001b[0m \u001b[1m2s\u001b[0m 4ms/step - accuracy: 0.9794 - loss: 0.0688 - val_accuracy: 0.9873 - val_loss: 0.0441\n",
            "Epoch 7/20\n",
            "\u001b[1m600/600\u001b[0m \u001b[32m━━━━━━━━━━━━━━━━━━━━\u001b[0m\u001b[37m\u001b[0m \u001b[1m2s\u001b[0m 4ms/step - accuracy: 0.9810 - loss: 0.0627 - val_accuracy: 0.9893 - val_loss: 0.0419\n",
            "Epoch 8/20\n",
            "\u001b[1m600/600\u001b[0m \u001b[32m━━━━━━━━━━━━━━━━━━━━\u001b[0m\u001b[37m\u001b[0m \u001b[1m3s\u001b[0m 5ms/step - accuracy: 0.9811 - loss: 0.0616 - val_accuracy: 0.9908 - val_loss: 0.0336\n",
            "Epoch 9/20\n",
            "\u001b[1m600/600\u001b[0m \u001b[32m━━━━━━━━━━━━━━━━━━━━\u001b[0m\u001b[37m\u001b[0m \u001b[1m2s\u001b[0m 4ms/step - accuracy: 0.9839 - loss: 0.0554 - val_accuracy: 0.9877 - val_loss: 0.0435\n",
            "Epoch 10/20\n",
            "\u001b[1m600/600\u001b[0m \u001b[32m━━━━━━━━━━━━━━━━━━━━\u001b[0m\u001b[37m\u001b[0m \u001b[1m2s\u001b[0m 4ms/step - accuracy: 0.9854 - loss: 0.0507 - val_accuracy: 0.9888 - val_loss: 0.0416\n",
            "Epoch 11/20\n",
            "\u001b[1m600/600\u001b[0m \u001b[32m━━━━━━━━━━━━━━━━━━━━\u001b[0m\u001b[37m\u001b[0m \u001b[1m2s\u001b[0m 4ms/step - accuracy: 0.9859 - loss: 0.0445 - val_accuracy: 0.9909 - val_loss: 0.0331\n",
            "Epoch 12/20\n",
            "\u001b[1m600/600\u001b[0m \u001b[32m━━━━━━━━━━━━━━━━━━━━\u001b[0m\u001b[37m\u001b[0m \u001b[1m2s\u001b[0m 4ms/step - accuracy: 0.9881 - loss: 0.0406 - val_accuracy: 0.9891 - val_loss: 0.0432\n",
            "Epoch 13/20\n",
            "\u001b[1m600/600\u001b[0m \u001b[32m━━━━━━━━━━━━━━━━━━━━\u001b[0m\u001b[37m\u001b[0m \u001b[1m3s\u001b[0m 5ms/step - accuracy: 0.9869 - loss: 0.0415 - val_accuracy: 0.9908 - val_loss: 0.0374\n",
            "Epoch 14/20\n",
            "\u001b[1m600/600\u001b[0m \u001b[32m━━━━━━━━━━━━━━━━━━━━\u001b[0m\u001b[37m\u001b[0m \u001b[1m5s\u001b[0m 4ms/step - accuracy: 0.9882 - loss: 0.0365 - val_accuracy: 0.9898 - val_loss: 0.0466\n",
            "Epoch 15/20\n",
            "\u001b[1m600/600\u001b[0m \u001b[32m━━━━━━━━━━━━━━━━━━━━\u001b[0m\u001b[37m\u001b[0m \u001b[1m2s\u001b[0m 4ms/step - accuracy: 0.9879 - loss: 0.0385 - val_accuracy: 0.9904 - val_loss: 0.0379\n",
            "Epoch 16/20\n",
            "\u001b[1m600/600\u001b[0m \u001b[32m━━━━━━━━━━━━━━━━━━━━\u001b[0m\u001b[37m\u001b[0m \u001b[1m3s\u001b[0m 4ms/step - accuracy: 0.9888 - loss: 0.0382 - val_accuracy: 0.9905 - val_loss: 0.0361\n",
            "Epoch 17/20\n",
            "\u001b[1m600/600\u001b[0m \u001b[32m━━━━━━━━━━━━━━━━━━━━\u001b[0m\u001b[37m\u001b[0m \u001b[1m3s\u001b[0m 5ms/step - accuracy: 0.9902 - loss: 0.0323 - val_accuracy: 0.9895 - val_loss: 0.0428\n",
            "Epoch 18/20\n",
            "\u001b[1m600/600\u001b[0m \u001b[32m━━━━━━━━━━━━━━━━━━━━\u001b[0m\u001b[37m\u001b[0m \u001b[1m2s\u001b[0m 4ms/step - accuracy: 0.9901 - loss: 0.0313 - val_accuracy: 0.9896 - val_loss: 0.0423\n",
            "Epoch 19/20\n",
            "\u001b[1m600/600\u001b[0m \u001b[32m━━━━━━━━━━━━━━━━━━━━\u001b[0m\u001b[37m\u001b[0m \u001b[1m2s\u001b[0m 4ms/step - accuracy: 0.9896 - loss: 0.0332 - val_accuracy: 0.9916 - val_loss: 0.0396\n",
            "Epoch 20/20\n",
            "\u001b[1m600/600\u001b[0m \u001b[32m━━━━━━━━━━━━━━━━━━━━\u001b[0m\u001b[37m\u001b[0m \u001b[1m2s\u001b[0m 4ms/step - accuracy: 0.9905 - loss: 0.0287 - val_accuracy: 0.9902 - val_loss: 0.0480\n"
          ]
        }
      ]
    },
    {
      "cell_type": "code",
      "source": [
        "# 정확도와 손실함수 그래프\n",
        "print(history.history.keys())"
      ],
      "metadata": {
        "colab": {
          "base_uri": "https://localhost:8080/"
        },
        "id": "DZPmGiLRlAJ_",
        "outputId": "f66d5214-dd28-4c65-a797-603c675f1857"
      },
      "execution_count": null,
      "outputs": [
        {
          "output_type": "stream",
          "name": "stdout",
          "text": [
            "dict_keys(['accuracy', 'loss', 'val_accuracy', 'val_loss'])\n"
          ]
        }
      ]
    },
    {
      "cell_type": "code",
      "source": [
        "# summarize history for accuracy\n",
        "plt.plot(history.history['accuracy'])\n",
        "plt.plot(history.history['val_accuracy'])\n",
        "plt.title('Model accuracy')\n",
        "plt.ylabel('accuracy')\n",
        "plt.xlabel('epoch')\n",
        "plt.legend(['train', 'test'], loc='lower right')\n",
        "plt.show()\n",
        "\n",
        "# summarize history for loss\n",
        "plt.plot(history.history['loss'])\n",
        "plt.plot(history.history['val_loss'])\n",
        "plt.title('Model loss')\n",
        "plt.ylabel('loss')\n",
        "plt.xlabel('epoch')\n",
        "plt.legend(['train', 'test'], loc='upper right')\n",
        "plt.show()"
      ],
      "metadata": {
        "colab": {
          "base_uri": "https://localhost:8080/",
          "height": 927
        },
        "id": "EeYEjcpklGKe",
        "outputId": "18617424-d5e7-4952-cbb1-dc6fbcc6e8d1"
      },
      "execution_count": null,
      "outputs": [
        {
          "output_type": "display_data",
          "data": {
            "text/plain": [
              "<Figure size 640x480 with 1 Axes>"
            ],
            "image/png": "[encoded data removed]"
          },
          "metadata": {}
        },
        {
          "output_type": "display_data",
          "data": {
            "text/plain": [
              "<Figure size 640x480 with 1 Axes>"
            ],
            "image/png": "[encoded data removed]"
          },
          "metadata": {}
        }
      ]
    },
    {
      "cell_type": "code",
      "source": [],
      "metadata": {
        "id": "rs1RO39HlYaW"
      },
      "execution_count": null,
      "outputs": []
    }
  ]
}